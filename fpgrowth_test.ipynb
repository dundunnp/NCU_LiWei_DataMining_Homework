{
 "cells": [
  {
   "cell_type": "markdown",
   "metadata": {},
   "source": [
    "## 1. 创建 FP 树的数据结构"
   ]
  },
  {
   "cell_type": "code",
   "execution_count": 265,
   "metadata": {},
   "outputs": [],
   "source": [
    "\"\"\"\n",
    "FpTree树的结点\n",
    "property:\n",
    "    name: 节点名字\n",
    "    num: 用于计数\n",
    "    parent: 指向该节点的父亲节点\n",
    "    nodeLink: 指向下一个节点，这个节点与该节点名字相同\n",
    "    children: 用字典保存该节点的所有孩子节点\n",
    "\"\"\"\n",
    "class treeNode:\n",
    "    def __init__(self, name, num, parentNode):\n",
    "        self.name = name\n",
    "        self.num = num\n",
    "        self.parent = parentNode\n",
    "        self.nodeLink = None\n",
    "        self.children = {}"
   ]
  },
  {
   "cell_type": "markdown",
   "metadata": {},
   "source": [
    "## 2. 构建 FP 树"
   ]
  },
  {
   "cell_type": "code",
   "execution_count": 266,
   "metadata": {},
   "outputs": [],
   "source": [
    "\"\"\"\n",
    "构建FP树\n",
    "return:\n",
    "    tree_header: 树的根节点\n",
    "    headerTable: headerTable中保存由频繁项的各node节点形成的链表\n",
    "\"\"\"\n",
    "def createTree(dataSet, minSup):\n",
    "    # 统计各项出现次数\n",
    "    item_count = {}\n",
    "    # 第一次遍历，得到频繁一项集\n",
    "    # TODO\n",
    "    for i in dataSet:\n",
    "        for j in i:\n",
    "            item_count[j] = item_count.get(j, 0) + dataSet[i]\n",
    "            \n",
    "    # 剔除不满足最小支持度的项\n",
    "    headerTable = {}\n",
    "    # TODO\n",
    "    for i in item_count:\n",
    "        if item_count[i] >= minSup:\n",
    "            headerTable[i] = item_count[i]\n",
    "    \n",
    "    # 满足最小支持度的频繁项集，并按支持度从大到小排序\n",
    "    freqItem = sorted(headerTable.items(), key = lambda x:x[1], reverse = True)\n",
    "    freqItem = list(dict(freqItem).keys())\n",
    "    # print(freqItem)\n",
    "    \n",
    "    if len(freqItem) == 0:\n",
    "        return None, None\n",
    "    for k in headerTable:\n",
    "        # element: [count, node]\n",
    "        headerTable[k] = [headerTable[k], None] \n",
    "    \n",
    "    # 第二次遍历，建树\n",
    "    # TODO\n",
    "    \n",
    "    # 创建一个根节点\n",
    "    tree_header = treeNode('root', 1, None)\n",
    "    for data in dataSet:\n",
    "        # 按支持度从大到小排序，剔除非频繁项\n",
    "        filter_data = [i for i in data if i in freqItem]\n",
    "        new_data = sorted(filter_data, key=lambda x:(item_count[x], -ord(x)), reverse=True)\n",
    "        # print(new_data)\n",
    "        if new_data:\n",
    "            for _ in range(dataSet[data]):\n",
    "                updateTree(new_data, tree_header, headerTable)\n",
    "        else:\n",
    "            return None, None\n",
    "        \n",
    "    return tree_header, headerTable\n",
    "\n",
    "\"\"\"\n",
    "更新树，添加节点\n",
    "\"\"\"\n",
    "def updateTree(items, node, headerTable):\n",
    "    if items[0] in node.children:\n",
    "        # 判断items的第一个结点是否已作为子结点\n",
    "        node.children[items[0]].num += 1\n",
    "    else:\n",
    "        # 创建新的分支\n",
    "        node.children[items[0]] = treeNode(items[0], 1, node)\n",
    "        # 更新相应频繁项集的链表，往后添加\n",
    "        # TODO\n",
    "        if headerTable[items[0]][1]:\n",
    "            updateHeader(headerTable[items[0]][1], node.children[items[0]])\n",
    "        else:\n",
    "            headerTable[items[0]][1] = node.children[items[0]]\n",
    "        \n",
    "    # 递归\n",
    "    if len(items) > 1:\n",
    "        updateTree(items[1:], node.children[items[0]], headerTable)\n",
    "\n",
    "\n",
    "\"\"\"\n",
    "更新headertable中的node节点形成的链表\n",
    "\"\"\"\n",
    "def updateHeader(node, targetNode):\n",
    "    while node.nodeLink != None:\n",
    "        node = node.nodeLink\n",
    "    node.nodeLink = targetNode\n"
   ]
  },
  {
   "cell_type": "code",
   "execution_count": 267,
   "metadata": {},
   "outputs": [],
   "source": [
    "\"\"\"\n",
    "加载数据\n",
    "\"\"\"\n",
    "def loadSimpDat():\n",
    "    simpDat = [['r', 'z', 'h', 'j', 'p'],\n",
    "               ['z', 'y', 'x', 'w', 'v', 'u', 't', 's'],\n",
    "               ['z'],\n",
    "               ['r', 'x', 'n', 'o', 's'],\n",
    "               ['y', 'r', 'x', 'z', 'q', 't', 'p'],\n",
    "               ['y', 'z', 'x', 'e', 'q', 's', 't', 'm']]\n",
    "    return simpDat\n",
    "\n",
    "def createInitSet(dataSet):\n",
    "    retDict = {}\n",
    "    for t in dataSet:\n",
    "        retDict[frozenset(t)] = 1\n",
    "    return retDict"
   ]
  },
  {
   "cell_type": "code",
   "execution_count": 268,
   "metadata": {},
   "outputs": [
    {
     "data": {
      "text/plain": [
       "{frozenset({'h', 'j', 'p', 'r', 'z'}): 1,\n",
       " frozenset({'s', 't', 'u', 'v', 'w', 'x', 'y', 'z'}): 1,\n",
       " frozenset({'z'}): 1,\n",
       " frozenset({'n', 'o', 'r', 's', 'x'}): 1,\n",
       " frozenset({'p', 'q', 'r', 't', 'x', 'y', 'z'}): 1,\n",
       " frozenset({'e', 'm', 'q', 's', 't', 'x', 'y', 'z'}): 1}"
      ]
     },
     "execution_count": 268,
     "metadata": {},
     "output_type": "execute_result"
    }
   ],
   "source": [
    "simpDat = loadSimpDat()\n",
    "initSet = createInitSet(simpDat)\n",
    "initSet"
   ]
  },
  {
   "cell_type": "code",
   "execution_count": 269,
   "metadata": {},
   "outputs": [],
   "source": [
    "myFPtree, myHeaderTab = createTree(initSet, 3)"
   ]
  },
  {
   "cell_type": "code",
   "execution_count": 270,
   "metadata": {},
   "outputs": [
    {
     "name": "stdout",
     "output_type": "stream",
     "text": [
      "{'r': [3, <__main__.treeNode object at 0x0000020345C28F08>], 'z': [5, <__main__.treeNode object at 0x0000020345C28488>], 's': [3, <__main__.treeNode object at 0x0000020345C28AC8>], 'y': [3, <__main__.treeNode object at 0x0000020345C28208>], 't': [3, <__main__.treeNode object at 0x0000020345C28C88>], 'x': [4, <__main__.treeNode object at 0x0000020345C28608>]}\n"
     ]
    }
   ],
   "source": [
    "print(myHeaderTab)"
   ]
  },
  {
   "cell_type": "markdown",
   "metadata": {},
   "source": [
    "## 3. 抽取条件模式基\n",
    "- 发现以给定元素项结尾的所有路径的函数"
   ]
  },
  {
   "cell_type": "code",
   "execution_count": 271,
   "metadata": {},
   "outputs": [],
   "source": [
    "\"\"\"\n",
    "发现以给定元素项结尾的所有路径的函数\n",
    "param:\n",
    "    node_name: 给定节点名\n",
    "    headerTable: 保存由频繁项的各node节点形成的链表\n",
    "return:\n",
    "    cond_pat_base -> Dict(frozenset: int): 字典保存key为路径，value为node.num的值\n",
    "\"\"\"\n",
    "def find_cond_pattern_base(node_name, headerTable):\n",
    "    treeNode = headerTable[node_name][1]\n",
    "    cond_pat_base = {}\n",
    "    # TODO\n",
    "    while treeNode != None:\n",
    "        nodepath = []\n",
    "        find_path(treeNode, nodepath)\n",
    "        if nodepath:\n",
    "            cond_pat_base.update({frozenset(nodepath): treeNode.num})\n",
    "        treeNode = treeNode.nodeLink\n",
    "    \n",
    "    return cond_pat_base\n",
    "\n",
    "\"\"\"\n",
    "迭代上溯整棵树，将路径保存至nodepath列表\n",
    "param:\n",
    "    node: 节点\n",
    "    nodepath -> List(str): 列表中元素为节点名\n",
    "\"\"\"\n",
    "def find_path(node, nodepath):\n",
    "    if node.parent.name != 'root':\n",
    "        nodepath.append(node.parent.name)\n",
    "        find_path(node.parent, nodepath)"
   ]
  },
  {
   "cell_type": "code",
   "execution_count": 272,
   "metadata": {},
   "outputs": [
    {
     "data": {
      "text/plain": [
       "{frozenset({'z'}): 3}"
      ]
     },
     "execution_count": 272,
     "metadata": {},
     "output_type": "execute_result"
    }
   ],
   "source": [
    "find_cond_pattern_base('x', myHeaderTab)"
   ]
  },
  {
   "cell_type": "code",
   "execution_count": 273,
   "metadata": {},
   "outputs": [
    {
     "data": {
      "text/plain": [
       "{frozenset({'s', 't', 'x', 'z'}): 2, frozenset({'r', 't', 'x', 'z'}): 1}"
      ]
     },
     "execution_count": 273,
     "metadata": {},
     "output_type": "execute_result"
    }
   ],
   "source": [
    "find_cond_pattern_base('y', myHeaderTab)"
   ]
  },
  {
   "cell_type": "code",
   "execution_count": 274,
   "metadata": {},
   "outputs": [
    {
     "data": {
      "text/plain": [
       "{frozenset({'s', 'x', 'z'}): 2, frozenset({'r', 'x', 'z'}): 1}"
      ]
     },
     "execution_count": 274,
     "metadata": {},
     "output_type": "execute_result"
    }
   ],
   "source": [
    "find_cond_pattern_base('t', myHeaderTab)"
   ]
  },
  {
   "cell_type": "code",
   "execution_count": 275,
   "metadata": {},
   "outputs": [
    {
     "data": {
      "text/plain": [
       "{}"
      ]
     },
     "execution_count": 275,
     "metadata": {},
     "output_type": "execute_result"
    }
   ],
   "source": [
    "find_cond_pattern_base('z', myHeaderTab)"
   ]
  },
  {
   "cell_type": "markdown",
   "metadata": {},
   "source": [
    "## 4. 创建条件 FP 树"
   ]
  },
  {
   "cell_type": "code",
   "execution_count": 276,
   "metadata": {},
   "outputs": [],
   "source": [
    "\"\"\"\n",
    "param:\n",
    "    headerTable: 保存由频繁项的各node节点形成的链表\n",
    "    min_support: 最小支持度\n",
    "    temp: \n",
    "    freq_items: \n",
    "    support_data: \n",
    "\"\"\"\n",
    "def create_cond_fptree(headerTable, min_support, temp, freq_items, support_data):\n",
    "    # 最开始的频繁项集是headerTable中的各元素\n",
    "    # 根据频繁项的总频次排序\n",
    "    freqs = [v[0] for v in sorted(headerTable.items(), key=lambda p:p[1][0])]\n",
    "    # 对每个频繁项\n",
    "    for freq in freqs:\n",
    "        freq_set = temp.copy()\n",
    "        freq_set.add(freq)\n",
    "        freq_items.add(frozenset(freq_set))\n",
    "        # 检查该频繁项是否在support_data中\n",
    "        if frozenset(freq_set) not in support_data:\n",
    "            support_data[frozenset(freq_set)] = headerTable[freq][0]\n",
    "        else:\n",
    "            support_data[frozenset(freq_set)] += headerTable[freq][0]\n",
    "\n",
    "        # 寻找到所有条件模式基\n",
    "        cond_pat_base = find_cond_pattern_base(freq, headerTable)\n",
    "        # # 将条件模式基字典转化为数组\n",
    "        # cond_pat_dataset=[]\n",
    "        # for item in cond_pat_base:\n",
    "        #     item_temp=list(item)\n",
    "        #     item_temp.sort()\n",
    "        #     for i in range(cond_pat_base[item]):\n",
    "        #         cond_pat_dataset.append(item_temp)\n",
    "        # 创建条件模式树\n",
    "        myFPtree, cur_headtable = createTree(cond_pat_base, min_support)\n",
    "        if cur_headtable != None:\n",
    "            # 递归挖掘条件FP树\n",
    "            create_cond_fptree(cur_headtable, min_support, freq_set, freq_items, support_data) \n"
   ]
  },
  {
   "cell_type": "code",
   "execution_count": 277,
   "metadata": {},
   "outputs": [],
   "source": [
    "def generate_L(data_set,min_support):\n",
    "    freqItemSet=set()\n",
    "    support_data={}\n",
    "    _, headerTable=createTree(data_set,min_support)\n",
    "    # 创建各频繁一项的fptree，并挖掘频繁项并保存支持度计数\n",
    "    create_cond_fptree(headerTable, min_support, set(), freqItemSet, support_data)\n",
    "    \n",
    "    max_l=0\n",
    "    # 将频繁项根据大小保存到指定的容器L中\n",
    "    for i in freqItemSet:\n",
    "        max_l = max(max_l, len(i))\n",
    "    L = [set() for _ in range(max_l)]\n",
    "    for i in freqItemSet:\n",
    "        L[len(i)-1].add(i)\n",
    "    for i in range(len(L)):\n",
    "        print(\"frequent item {}:{}\".format(i+1,len(L[i]))) \n",
    "    return L, support_data\n"
   ]
  },
  {
   "cell_type": "code",
   "execution_count": 278,
   "metadata": {},
   "outputs": [
    {
     "name": "stdout",
     "output_type": "stream",
     "text": [
      "frequent item 1:6\n",
      "frequent item 2:7\n",
      "frequent item 3:4\n",
      "frequent item 4:1\n",
      "[{frozenset({'r'}), frozenset({'t'}), frozenset({'s'}), frozenset({'z'}), frozenset({'y'}), frozenset({'x'})}, {frozenset({'t', 'y'}), frozenset({'x', 'z'}), frozenset({'t', 'z'}), frozenset({'x', 'y'}), frozenset({'y', 'z'}), frozenset({'x', 's'}), frozenset({'x', 't'})}, {frozenset({'t', 'x', 'y'}), frozenset({'x', 't', 'z'}), frozenset({'t', 'y', 'z'}), frozenset({'x', 'y', 'z'})}, {frozenset({'t', 'x', 'y', 'z'})}]\n",
      "frozenset({'r'}) : 3\n",
      "frozenset({'s'}) : 3\n",
      "frozenset({'x', 's'}) : 3\n",
      "frozenset({'y'}) : 3\n",
      "frozenset({'x', 'y'}) : 3\n",
      "frozenset({'t', 'x', 'y'}) : 3\n",
      "frozenset({'t', 'y'}) : 3\n",
      "frozenset({'y', 'z'}) : 3\n",
      "frozenset({'x', 'y', 'z'}) : 3\n",
      "frozenset({'t', 'x', 'y', 'z'}) : 3\n",
      "frozenset({'t', 'y', 'z'}) : 3\n",
      "frozenset({'t'}) : 3\n",
      "frozenset({'x', 't'}) : 3\n",
      "frozenset({'t', 'z'}) : 3\n",
      "frozenset({'x', 't', 'z'}) : 3\n",
      "frozenset({'x'}) : 4\n",
      "frozenset({'x', 'z'}) : 3\n",
      "frozenset({'z'}) : 5\n"
     ]
    }
   ],
   "source": [
    "L, support_data = generate_L(initSet, 3)\n",
    "print(L)\n",
    "for k, v in support_data.items():\n",
    "    print(k, ':', v)"
   ]
  }
 ],
 "metadata": {
  "interpreter": {
   "hash": "a8f61be024eba58adef938c9aa1e29e02cb3dece83a5348b1a2dafd16a070453"
  },
  "kernelspec": {
   "display_name": "Python 3.7.3 ('base')",
   "language": "python",
   "name": "python3"
  },
  "language_info": {
   "codemirror_mode": {
    "name": "ipython",
    "version": 3
   },
   "file_extension": ".py",
   "mimetype": "text/x-python",
   "name": "python",
   "nbconvert_exporter": "python",
   "pygments_lexer": "ipython3",
   "version": "3.7.11"
  },
  "orig_nbformat": 4
 },
 "nbformat": 4,
 "nbformat_minor": 2
}
