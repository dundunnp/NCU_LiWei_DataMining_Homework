{
 "cells": [
  {
   "cell_type": "markdown",
   "metadata": {},
   "source": [
    "## 1. 生成候选项集\n",
    "- 构建大小为1的所有候选项集的集合C1。\n",
    "- 扫描数据集，判断是否满足最小支持度的要求，构成集合 L1"
   ]
  },
  {
   "cell_type": "code",
   "execution_count": 2,
   "metadata": {},
   "outputs": [],
   "source": [
    "\"\"\"\n",
    "加载数据\n",
    "\"\"\"\n",
    "def loadDataSet():\n",
    "    return [[1,3,4], [2,3,5], [1,2,3,5],[2,5]]\n",
    "\n",
    "\"\"\"\n",
    "求第一次扫描数据库后的候选集\n",
    "param:\n",
    "    dataSet: 初始数据集\n",
    "\"\"\"\n",
    "def createC1(dataSet):\n",
    "    C1 = set()\n",
    "    for transaction in dataSet:\n",
    "        for item in transaction:\n",
    "            C1.add(frozenset([item]))\n",
    "    return C1"
   ]
  },
  {
   "cell_type": "code",
   "execution_count": 14,
   "metadata": {},
   "outputs": [],
   "source": [
    "\"\"\"\n",
    "从第k次候选集中选出频繁项\n",
    "param:\n",
    "    D: 数据集\n",
    "    Ck: 第k次候选集\n",
    "    minSupport: 最小支持度\n",
    "return:\n",
    "    Lk -> List[list]: 频繁项\n",
    "    supportData -> Dict{tuple: int}: key为频繁项value为支持度\n",
    "\"\"\"\n",
    "def generate_lk_by_ck(D, Ck, minSupport):\n",
    "    Lk = list()\n",
    "    #用于保存各频繁项的支持度\n",
    "    supportData = {}\n",
    "    \n",
    "    # TODO\n",
    "    # 转换为另一种表达形式\n",
    "    minSupport *= len(D)\n",
    "    # 用于保存各项的支持度\n",
    "    candidateData = {}\n",
    "    for transaction in dataSet:\n",
    "        for ci in Ck:\n",
    "            if set(ci).issubset(set(transaction)):\n",
    "                candidateData[tuple(ci)] = candidateData.get(tuple(ci), 0) + 1\n",
    "    for key in candidateData.keys():\n",
    "        if candidateData[key] >= minSupport:\n",
    "            Lk.append(list(key))\n",
    "            supportData[key] = candidateData[key]\n",
    "                \n",
    "    return Lk, supportData\n",
    "            "
   ]
  },
  {
   "cell_type": "code",
   "execution_count": 15,
   "metadata": {},
   "outputs": [
    {
     "data": {
      "text/plain": [
       "[[1, 3, 4], [2, 3, 5], [1, 2, 3, 5], [2, 5]]"
      ]
     },
     "execution_count": 15,
     "metadata": {},
     "output_type": "execute_result"
    }
   ],
   "source": [
    "dataSet = loadDataSet()\n",
    "dataSet"
   ]
  },
  {
   "cell_type": "code",
   "execution_count": 16,
   "metadata": {},
   "outputs": [
    {
     "data": {
      "text/plain": [
       "{frozenset({2}),\n",
       " frozenset({3}),\n",
       " frozenset({1}),\n",
       " frozenset({5}),\n",
       " frozenset({4})}"
      ]
     },
     "execution_count": 16,
     "metadata": {},
     "output_type": "execute_result"
    }
   ],
   "source": [
    "C1 = createC1(dataSet)\n",
    "C1"
   ]
  },
  {
   "cell_type": "code",
   "execution_count": 17,
   "metadata": {},
   "outputs": [],
   "source": [
    "L1, supportData = generate_lk_by_ck(dataSet, C1, 0.5)"
   ]
  },
  {
   "cell_type": "markdown",
   "metadata": {},
   "source": [
    "## 2. 生成所有频繁项集\n",
    "- 从 Lk-1 生成 Ck\n",
    "- 检查候选项子集是否都在频繁 Lk-1 中"
   ]
  },
  {
   "cell_type": "code",
   "execution_count": 18,
   "metadata": {},
   "outputs": [],
   "source": [
    "\"\"\"\n",
    "通过频繁项集Lk-1创建Ck候选项集\n",
    "param:\n",
    "    Lk-1: 第k-1次频繁项集\n",
    "    k -> int: 第k次遍历\n",
    "return:\n",
    "    Ck: 第k次候选集\n",
    "\"\"\"\n",
    "def createCk(Lk_1, k):\n",
    "    Ck = list()\n",
    "    # TODO\n",
    "    for i in range(len(Lk_1)):\n",
    "        for j in range(i+1, len(Lk_1)):\n",
    "            L1 = list(Lk_1[i])[:k-2]\n",
    "            L2 = list(Lk_1[j])[:k-2]\n",
    "            # 先排序，在进行组合\n",
    "            L1.sort()\n",
    "            L2.sort()\n",
    "\n",
    "            if L1 == L2:\n",
    "                if k > 2:\n",
    "                    # 集合运算 对称差集 ^ （含义，集合的元素在t或s中，但不会同时出现在二者中）      \n",
    "                    new = list( set(Lk_1[i]) ^ set(Lk_1[j]) ) \n",
    "                else:\n",
    "                    # 第二次求候选集，不需要进行减枝\n",
    "                    new = set()\n",
    "                for x in Lk_1:\n",
    "                    # 减枝new是 x 的子集，并且还没有加入 ck 中\n",
    "                    if set(new).issubset(set(x)) and list(set(Lk_1[i]) | set(Lk_1[j])) not in Ck:\n",
    "                        Ck.append( list(set(Lk_1[i]) | set(Lk_1[j])) )\n",
    "    return Ck\n",
    "\n",
    "\"\"\"\n",
    "检查候选项Ck的子集是否都在Lk-1中\n",
    "param:\n",
    "    Ck: 第k次候选集\n",
    "    Lk-1: 第k-1次频繁项集\n",
    "\"\"\"\n",
    "def has_infrequent_subset(Ck, Lk_1):\n",
    "    # TODO\n",
    "    # 因为createCk(Lk_1, k)已经做了剪枝操作，肯定是都在Lk-1中，直接返回True\n",
    "    return True"
   ]
  },
  {
   "cell_type": "code",
   "execution_count": 20,
   "metadata": {},
   "outputs": [],
   "source": [
    "\"\"\"\n",
    "生成所有频繁项集\n",
    "param:\n",
    "    D: 数据集\n",
    "    minSupport: 最小支持度\n",
    "return:\n",
    "    L: 所有频繁项集\n",
    "    supportData: 存放所有频繁项集支持度的字典\n",
    "\"\"\"\n",
    "def generate_L(dataSet, minSupport=0.5):\n",
    "    C1= createC1(dataSet)\n",
    "    L1, supportData = generate_lk_by_ck(dataSet, C1, minSupport)\n",
    "    L = [L1]\n",
    "    k = 2\n",
    "    Lk_1 = L1.copy()\n",
    "    while True:\n",
    "        Ck = createCk(Lk_1, k)\n",
    "        Lk, supK = generate_lk_by_ck(dataSet, Ck, minSupport)\n",
    "        supportData.update(supK)\n",
    "        if len(Lk) == 0:\n",
    "            break\n",
    "        Lk_1 = Lk.copy()\n",
    "        L.append(Lk_1)\n",
    "        k += 1\n",
    "    return L, supportData"
   ]
  },
  {
   "cell_type": "code",
   "execution_count": 21,
   "metadata": {},
   "outputs": [],
   "source": [
    "L, supportData = generate_L(dataSet, 0.5)"
   ]
  },
  {
   "cell_type": "code",
   "execution_count": 22,
   "metadata": {},
   "outputs": [
    {
     "data": {
      "text/plain": [
       "[[1, 3], [2, 3], [3, 5], [1, 2], [1, 5], [2, 5]]"
      ]
     },
     "execution_count": 22,
     "metadata": {},
     "output_type": "execute_result"
    }
   ],
   "source": [
    "createCk(L[0], 2)"
   ]
  },
  {
   "cell_type": "code",
   "execution_count": 24,
   "metadata": {},
   "outputs": [
    {
     "name": "stdout",
     "output_type": "stream",
     "text": [
      "[[[3], [1], [2], [5]], [[1, 3], [2, 3], [3, 5], [2, 5]], [[2, 3, 5]]]\n",
      "{(3,): 3, (1,): 2, (2,): 3, (5,): 3, (1, 3): 2, (2, 3): 2, (3, 5): 2, (2, 5): 3, (2, 3, 5): 2}\n"
     ]
    }
   ],
   "source": [
    "L, supportData = generate_L(dataSet, minSupport=0.5)\n",
    "print(L)\n",
    "print(supportData)"
   ]
  },
  {
   "cell_type": "markdown",
   "metadata": {},
   "source": [
    "## 3. 从频繁项集中挖掘关联规则\n",
    "- 计算规则置信度\n",
    "- 如果某个规则不满足最小置信度要求，那么该规则的所有子集也不会满足"
   ]
  },
  {
   "cell_type": "code",
   "execution_count": null,
   "metadata": {},
   "outputs": [],
   "source": [
    "def generateRules(dataset, minSupport, minConf=0.7):\n",
    "    L, supportData=generate_L(dataset,minSupport)\n",
    "    big_rule = []\n",
    "    for i in range(1, len(L)):\n",
    "        for freqSet in L[i]:\n",
    "            H1 = [frozenset([item]) for item in freqSet]\n",
    "            if i > 1:\n",
    "                rulesFromConseq(freqSet, H1, supportData, big_rule, minConf)\n",
    "            else:\n",
    "                calcConf(freqSet, H1, supportData, big_rule, minConf)\n",
    "    return big_rule\n",
    "\n",
    "# 新候选规则\n",
    "def rulesFromConseq(freqSet, H, supportData, big_rule, minConf):\n",
    "    m = len(H[0])\n",
    "    if (len(freqSet) > m+1):\n",
    "        Hmp1 = createCk(H, m+1)\n",
    "        Hmp1 = calcConf(freqSet, Hmp1, supportData, big_rule, minConf)\n",
    "        if (len(Hmp1) > 1):\n",
    "            rulesFromConseq(freqSet, Hmp1, supportData, big_rule, minConf)\n",
    "\n",
    "def calcConf(freqSet, H, supportData, big_rule, minConf):\n",
    "    prunedH = []\n",
    "    for conseq in H:\n",
    "        conf = supportData[freqSet]/supportData[freqSet-conseq]\n",
    "    if conf >= minConf:\n",
    "        big_rule.append((freqSet - conseq, conseq, conf))\n",
    "        prunedH.append(conseq)\n",
    "    return prunedH"
   ]
  },
  {
   "cell_type": "markdown",
   "metadata": {},
   "source": [
    "蛮力方式，遍历所有子集"
   ]
  },
  {
   "cell_type": "code",
   "execution_count": 32,
   "metadata": {},
   "outputs": [],
   "source": [
    "def generate_R(dataset, minSupport, minConf):\n",
    "    L, supportData=generate_L(dataset,minSupport)\n",
    "    # 保存满足置信度的规则\n",
    "    rule_list = []\n",
    "    # 该数组保存检查过的频繁项\n",
    "    sub_set_list = []\n",
    "    for i in range(len(L)):\n",
    "        for freq_set in L[i]:\n",
    "            # sub_set_list中保存的是L1到Lk-1\n",
    "            for sub_set in sub_set_list:\n",
    "                # 检查sub_set是否是freq_set的子集\n",
    "                if set(sub_set).issubset(set(freq_set)):\n",
    "                    # 检查置信度是否满足要求，是则添加到规则\n",
    "                    conf = supportData[tuple(freq_set)] / supportData[tuple(set(freq_set) - set(sub_set))]\n",
    "                    big_rule = (set(freq_set) - set(sub_set), set(sub_set), conf)\n",
    "                    if conf >= minConf and big_rule not in rule_list:\n",
    "                        rule_list.append(big_rule)\n",
    "            sub_set_list.append(freq_set)\n",
    "    rule_list = sorted(rule_list, key=lambda x:(x[2]), reverse=True)\n",
    "    return rule_list"
   ]
  },
  {
   "cell_type": "code",
   "execution_count": 34,
   "metadata": {},
   "outputs": [
    {
     "data": {
      "text/plain": [
       "[({1}, {3}, 1.0),\n",
       " ({5}, {2}, 1.0),\n",
       " ({2}, {5}, 1.0),\n",
       " ({3, 5}, {2}, 1.0),\n",
       " ({2, 3}, {5}, 1.0),\n",
       " ({3}, {1}, 0.6666666666666666),\n",
       " ({2}, {3}, 0.6666666666666666),\n",
       " ({3}, {2}, 0.6666666666666666),\n",
       " ({5}, {3}, 0.6666666666666666),\n",
       " ({3}, {5}, 0.6666666666666666),\n",
       " ({2, 5}, {3}, 0.6666666666666666),\n",
       " ({5}, {2, 3}, 0.6666666666666666),\n",
       " ({2}, {3, 5}, 0.6666666666666666),\n",
       " ({3}, {2, 5}, 0.6666666666666666)]"
      ]
     },
     "execution_count": 34,
     "metadata": {},
     "output_type": "execute_result"
    }
   ],
   "source": [
    "rules = generate_R(dataSet, 0.5, 0.5)\n",
    "rules"
   ]
  },
  {
   "cell_type": "code",
   "execution_count": null,
   "metadata": {},
   "outputs": [],
   "source": [
    "rules = generateRules(dataSet, 0.5, 0.5)"
   ]
  }
 ],
 "metadata": {
  "interpreter": {
   "hash": "a8f61be024eba58adef938c9aa1e29e02cb3dece83a5348b1a2dafd16a070453"
  },
  "kernelspec": {
   "display_name": "Python 3.7.3 ('base')",
   "language": "python",
   "name": "python3"
  },
  "language_info": {
   "codemirror_mode": {
    "name": "ipython",
    "version": 3
   },
   "file_extension": ".py",
   "mimetype": "text/x-python",
   "name": "python",
   "nbconvert_exporter": "python",
   "pygments_lexer": "ipython3",
   "version": "3.7.11"
  },
  "orig_nbformat": 4
 },
 "nbformat": 4,
 "nbformat_minor": 2
}
